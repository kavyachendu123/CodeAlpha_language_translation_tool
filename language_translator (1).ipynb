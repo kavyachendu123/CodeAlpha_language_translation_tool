{
 "cells": [
  {
   "cell_type": "code",
   "execution_count": null,
   "id": "06e30fc3",
   "metadata": {},
   "outputs": [],
   "source": [
    "# Import required modules\n",
    "from googletrans import Translator, LANGUAGES\n",
    "\n",
    "# Initialize the translator\n",
    "translator = Translator()\n",
    "\n",
    "# Map language names to codes\n",
    "lang_codes = {v.lower(): k for k, v in LANGUAGES.items()}\n",
    "\n",
    "# Runtime interaction\n",
    "while True:\n",
    "    user_text = input(\"Enter text to translate (or type 'exit' to quit): \").strip()\n",
    "    if user_text.lower() == 'exit':\n",
    "        print(\" Exiting translator.\")\n",
    "        break\n",
    "\n",
    "    src_lang = input(\"Enter source language: \").strip().lower()\n",
    "    dest_lang = input(\"Enter target language: \").strip().lower()\n",
    "\n",
    "    src_code = lang_codes.get(src_lang)\n",
    "    dest_code = lang_codes.get(dest_lang)\n",
    "\n",
    "    if not src_code or not dest_code:\n",
    "        print(\" Invalid language. Please check your input.\\n\")\n",
    "        continue\n",
    "\n",
    "    try:\n",
    "        translated = translator.translate(user_text, src=src_code, dest=dest_code)\n",
    "        print(f\"\\n Translated ({src_lang} → {dest_lang}):\\n{translated.text}\\n\")\n",
    "    except Exception as e:\n",
    "        print(f\" Error: {e}\\n\")"
   ]
  }
 ],
 "metadata": {
  "kernelspec": {
   "display_name": "Python 3 (ipykernel)",
   "language": "python",
   "name": "python3"
  },
  "language_info": {
   "codemirror_mode": {
    "name": "ipython",
    "version": 3
   },
   "file_extension": ".py",
   "mimetype": "text/x-python",
   "name": "python",
   "nbconvert_exporter": "python",
   "pygments_lexer": "ipython3",
   "version": "3.11.5"
  }
 },
 "nbformat": 4,
 "nbformat_minor": 5
}
